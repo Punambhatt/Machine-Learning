{
  "nbformat": 4,
  "nbformat_minor": 0,
  "metadata": {
    "colab": {
      "provenance": [],
      "authorship_tag": "ABX9TyOqIorJaF/k93QLK3s8oeyN",
      "include_colab_link": true
    },
    "kernelspec": {
      "name": "python3",
      "display_name": "Python 3"
    },
    "language_info": {
      "name": "python"
    }
  },
  "cells": [
    {
      "cell_type": "markdown",
      "metadata": {
        "id": "view-in-github",
        "colab_type": "text"
      },
      "source": [
        "<a href=\"https://colab.research.google.com/github/Punambhatt/Machine-Learning/blob/main/Linear_Regression.ipynb\" target=\"_parent\"><img src=\"https://colab.research.google.com/assets/colab-badge.svg\" alt=\"Open In Colab\"/></a>"
      ]
    },
    {
      "cell_type": "code",
      "execution_count": 23,
      "metadata": {
        "id": "1Q9ET-8feA4i"
      },
      "outputs": [],
      "source": [
        "import numpy as np\n",
        "\n",
        "class SimpleLinearRegression:\n",
        "\n",
        "  def __init__(self, learning_rate=0.01, epochs=100):\n",
        "        self.learning_rate = learning_rate\n",
        "        self.epochs = epochs\n",
        "        self.weight = 0\n",
        "        self.bias = 0\n",
        "\n",
        "  def predict(self, X):\n",
        "        return self.weight * X + self.bias\n",
        "\n",
        "  def compute_loss(self, y_true, y_pred):\n",
        "      return np.mean((y_true-y_pred)**2)\n",
        "  def fit(self, X, y):\n",
        "      n = len(X)\n",
        "\n",
        "      for i in range(self. epochs):\n",
        "        y_pred = self.predict(X)\n",
        "        dw = (-2/n) * np.sum(X * (y - y_pred))\n",
        "        db = (-2/n) * np.sum(y - y_pred)\n",
        "\n",
        "        self.weight -= self.learning_rate * dw\n",
        "        self.bias -= self.learning_rate * db\n",
        "\n",
        "        if i % 10 == 0:\n",
        "            loss = self.compute_loss(y, y_pred)\n",
        "            print(f\"Epoch {i}, Loss: {loss:.4f}), Weight: {self.weight:.4f}, Bias: {self.bias:.4f}\")\n",
        "\n",
        "  def evaluate(self, X, y):\n",
        "    y_pred = self.predict(X)\n",
        "    loss = self.compute_loss(y, y_pred)\n",
        "    print(f\"Final Loss: {loss:.4f}\")"
      ]
    },
    {
      "cell_type": "code",
      "source": [
        "X = np.array([1, 2, 3, 4, 5], dtype=np.float32)\n",
        "y = np.array([2, 4, 6, 8, 10], dtype=np.float32)\n",
        "\n",
        "model = SimpleLinearRegression(learning_rate=0.01, epochs=200)\n",
        "model.fit(X, y)\n",
        "model.evaluate(X, y)\n",
        "print(\"Predicted price for size 6:\", model.predict(9))"
      ],
      "metadata": {
        "colab": {
          "base_uri": "https://localhost:8080/"
        },
        "id": "9matKCeNmNbb",
        "outputId": "aa5d4a19-a441-48d7-a396-78ebb0d83186"
      },
      "execution_count": 28,
      "outputs": [
        {
          "output_type": "stream",
          "name": "stdout",
          "text": [
            "Epoch 0, Loss: 44.0000), Weight: 0.4400, Bias: 0.1200\n",
            "Epoch 10, Loss: 0.2435), Weight: 1.7674, Bias: 0.4693\n",
            "Epoch 20, Loss: 0.0430), Weight: 1.8609, Bias: 0.4774\n",
            "Epoch 30, Loss: 0.0393), Weight: 1.8713, Bias: 0.4631\n",
            "Epoch 40, Loss: 0.0367), Weight: 1.8759, Bias: 0.4478\n",
            "Epoch 50, Loss: 0.0343), Weight: 1.8801, Bias: 0.4329\n",
            "Epoch 60, Loss: 0.0321), Weight: 1.8841, Bias: 0.4185\n",
            "Epoch 70, Loss: 0.0300), Weight: 1.8880, Bias: 0.4045\n",
            "Epoch 80, Loss: 0.0280), Weight: 1.8917, Bias: 0.3911\n",
            "Epoch 90, Loss: 0.0262), Weight: 1.8953, Bias: 0.3780\n",
            "Epoch 100, Loss: 0.0245), Weight: 1.8988, Bias: 0.3655\n",
            "Epoch 110, Loss: 0.0229), Weight: 1.9021, Bias: 0.3533\n",
            "Epoch 120, Loss: 0.0214), Weight: 1.9054, Bias: 0.3415\n",
            "Epoch 130, Loss: 0.0200), Weight: 1.9086, Bias: 0.3301\n",
            "Epoch 140, Loss: 0.0187), Weight: 1.9116, Bias: 0.3192\n",
            "Epoch 150, Loss: 0.0174), Weight: 1.9145, Bias: 0.3085\n",
            "Epoch 160, Loss: 0.0163), Weight: 1.9174, Bias: 0.2982\n",
            "Epoch 170, Loss: 0.0152), Weight: 1.9201, Bias: 0.2883\n",
            "Epoch 180, Loss: 0.0142), Weight: 1.9228, Bias: 0.2787\n",
            "Epoch 190, Loss: 0.0133), Weight: 1.9254, Bias: 0.2694\n",
            "Final Loss: 0.0124\n",
            "Predicted price for size 6: 17.609844\n"
          ]
        }
      ]
    }
  ]
}